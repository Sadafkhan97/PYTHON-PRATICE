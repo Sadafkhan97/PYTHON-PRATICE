{
 "cells": [
  {
   "cell_type": "code",
   "execution_count": 64,
   "id": "243f9d1d-31fd-4683-9775-7be329115dad",
   "metadata": {},
   "outputs": [
    {
     "name": "stdout",
     "output_type": "stream",
     "text": [
      " my name is sadaf my age is 22 and my weight is 40.5\n",
      "<class 'str'>\n",
      "<class 'int'>\n",
      "<class 'float'>\n"
     ]
    }
   ],
   "source": [
    "# variables\n",
    "name = \"sadaf\"\n",
    "age = 22\n",
    "weight = 40.50\n",
    "print(\" my name is\",name, \"my age is\", age, \"and my weight is\",weight)\n",
    "print(type(name))\n",
    "print(type(age))\n",
    "print(type(weight))"
   ]
  },
  {
   "cell_type": "code",
   "execution_count": 65,
   "id": "3b7353cf-475c-43f5-8a9b-2754e841cfb9",
   "metadata": {},
   "outputs": [
    {
     "name": "stdout",
     "output_type": "stream",
     "text": [
      "age is 22 <class 'int'>\n",
      "name is sadaf <class 'str'>\n",
      "weight is 40.5 <class 'float'>\n",
      "x is True <class 'bool'>\n",
      "a is None <class 'NoneType'>\n"
     ]
    }
   ],
   "source": [
    "# data types\n",
    "# integers\n",
    "age = 22\n",
    "print(\"age is\",age,type(age))\n",
    "# string\n",
    "name = \"sadaf\"\n",
    "print(\"name is\",name,type(name))\n",
    "# float\n",
    "weight = 40.50\n",
    "print(\"weight is\",weight,type(weight))\n",
    "# boolean\n",
    "x = True\n",
    "print(\"x is\",x,type(x))\n",
    "# none\n",
    "a = None\n",
    "print(\"a is\",a,type(a))"
   ]
  },
  {
   "cell_type": "code",
   "execution_count": 66,
   "id": "4347d39f-a701-4a28-bf50-0e38a8228dd0",
   "metadata": {},
   "outputs": [],
   "source": [
    "# punctuators\n",
    "# puncttuators are symbols used to organize sentence structure \n",
    "# (),{},[],# etc."
   ]
  },
  {
   "cell_type": "code",
   "execution_count": 67,
   "id": "00ae0180-319b-4f26-88da-9d4305125a8e",
   "metadata": {},
   "outputs": [
    {
     "name": "stdin",
     "output_type": "stream",
     "text": [
      "enter  your age 33\n"
     ]
    },
    {
     "name": "stdout",
     "output_type": "stream",
     "text": [
      "vote\n"
     ]
    }
   ],
   "source": [
    "# conditional statement\n",
    "age = int(input(\"enter  your age\"))\n",
    "if age >= 18:\n",
    "    print(\"vote\")\n",
    "else:\n",
    "    print(\"not vote\")"
   ]
  },
  {
   "cell_type": "code",
   "execution_count": 68,
   "id": "2a15beb5-159b-4f6e-b363-5eff018c0881",
   "metadata": {},
   "outputs": [
    {
     "name": "stdin",
     "output_type": "stream",
     "text": [
      "enter light color red\n"
     ]
    },
    {
     "name": "stdout",
     "output_type": "stream",
     "text": [
      "stop\n"
     ]
    }
   ],
   "source": [
    "color = input(\"enter light color\")\n",
    "if color == \"red\":\n",
    "    print(\"stop\")\n",
    "elif color == \"green\":\n",
    "    print(\"go\")\n",
    "elif color == \"yellow\":\n",
    "    print(\"look after\")\n",
    "else:\n",
    "    print(\"light is broken\")"
   ]
  },
  {
   "cell_type": "code",
   "execution_count": 69,
   "id": "a0acd423-7f25-4d9f-9750-152f0d02a68c",
   "metadata": {},
   "outputs": [
    {
     "name": "stdin",
     "output_type": "stream",
     "text": [
      "marks: 77\n"
     ]
    },
    {
     "name": "stdout",
     "output_type": "stream",
     "text": [
      "C\n"
     ]
    }
   ],
   "source": [
    "marks = int(input(\"marks:\"))\n",
    "if marks >= 90:\n",
    "    print(\"A\")\n",
    "elif marks > 80 and marks < 90:\n",
    "    print(\"B\")\n",
    "elif marks > 70 and marks < 80:\n",
    "    print(\"C\") \n",
    "else:\n",
    "    print(\"D\")"
   ]
  },
  {
   "cell_type": "code",
   "execution_count": 70,
   "id": "1ecdb5f1-dc05-4296-afe7-e9939e3687b9",
   "metadata": {},
   "outputs": [
    {
     "name": "stdin",
     "output_type": "stream",
     "text": [
      "A : 1\n",
      "G/M : F\n"
     ]
    },
    {
     "name": "stdout",
     "output_type": "stream",
     "text": [
      "No Fee\n"
     ]
    }
   ],
   "source": [
    "A = int(input(\"A :\"))\n",
    "G = input(\"G/M :\")\n",
    "if((A == 1  or A == 2) and G == \"M\"):\n",
    "    print(\"Fee is 100\")\n",
    "elif((A == 3  or A == 4) and G == \"F\"):\n",
    "    print(\"Fee is 200\")\n",
    "elif(A == 5 and G == \"F\"):\n",
    "    print(\"Fee is 300\")\n",
    "else:\n",
    "    print(\"No Fee\")\n",
    "    "
   ]
  },
  {
   "cell_type": "code",
   "execution_count": 71,
   "id": "b664d66c-dc62-4e5e-b2de-e0948b61f37a",
   "metadata": {},
   "outputs": [
    {
     "name": "stdin",
     "output_type": "stream",
     "text": [
      " biryani\n"
     ]
    },
    {
     "name": "stdout",
     "output_type": "stream",
     "text": [
      "yes\n"
     ]
    }
   ],
   "source": [
    "# TERNERY OPERATOR\n",
    "food = input(\"\")\n",
    "fav = \"yes\" if food == \"biryani\" else \"No\"\n",
    "print(fav)"
   ]
  },
  {
   "cell_type": "code",
   "execution_count": 72,
   "id": "0c910963-4d34-46e0-a23c-3231354cb90f",
   "metadata": {},
   "outputs": [
    {
     "name": "stdin",
     "output_type": "stream",
     "text": [
      " cake\n"
     ]
    },
    {
     "name": "stdout",
     "output_type": "stream",
     "text": [
      "Sweet\n"
     ]
    }
   ],
   "source": [
    "food = input(\"\")\n",
    "print(\"Sweet\") if food == \"cake\" or food == \"julabi\" else print(\"no sweet\")"
   ]
  },
  {
   "cell_type": "code",
   "execution_count": 73,
   "id": "b722dd33-7a92-4961-80e2-f1928382ab40",
   "metadata": {},
   "outputs": [
    {
     "name": "stdin",
     "output_type": "stream",
     "text": [
      "your age: 22\n"
     ]
    },
    {
     "name": "stdout",
     "output_type": "stream",
     "text": [
      "yes\n"
     ]
    }
   ],
   "source": [
    "age = int(input(\"your age:\"))\n",
    "vote = (\"yes\", \"No\") [age <= 18]\n",
    "print(vote)"
   ]
  },
  {
   "cell_type": "code",
   "execution_count": 74,
   "id": "ee23dc2e-cf68-463c-9a8e-49a9f207e8ef",
   "metadata": {},
   "outputs": [
    {
     "name": "stdin",
     "output_type": "stream",
     "text": [
      "enter your age: 500000\n"
     ]
    },
    {
     "name": "stdout",
     "output_type": "stream",
     "text": [
      "50000.0\n"
     ]
    }
   ],
   "source": [
    "sal = float(input(\"enter your age:\"))\n",
    "tax = sal*(0.1, 0.2) [sal <= 50000]\n",
    "print(tax)"
   ]
  },
  {
   "cell_type": "code",
   "execution_count": 75,
   "id": "76933468-0331-426c-9c63-c9d24e5d3b68",
   "metadata": {},
   "outputs": [
    {
     "name": "stdin",
     "output_type": "stream",
     "text": [
      "principle: 4\n",
      "rate: 5\n",
      "time: 6\n"
     ]
    },
    {
     "name": "stdout",
     "output_type": "stream",
     "text": [
      "1.2\n"
     ]
    }
   ],
   "source": [
    "p = float(input(\"principle:\"))\n",
    "r = float(input(\"rate:\"))\n",
    "t = float(input(\"time:\"))\n",
    "si = (p*r*t)/100\n",
    "print(si)"
   ]
  },
  {
   "cell_type": "code",
   "execution_count": 76,
   "id": "69e192cc-9f3b-43bb-bd70-3e121cea58aa",
   "metadata": {},
   "outputs": [
    {
     "name": "stdin",
     "output_type": "stream",
     "text": [
      "first number: 6\n",
      "second number: 8\n"
     ]
    },
    {
     "name": "stdout",
     "output_type": "stream",
     "text": [
      "14\n",
      "-2\n",
      "48\n",
      "0.75\n",
      "0\n",
      "6\n",
      "1679616\n"
     ]
    }
   ],
   "source": [
    "# operators\n",
    "# arthimatic operators\n",
    "a = int(input(\"first number:\"))\n",
    "b = int(input(\"second number:\"))\n",
    "print(a + b)\n",
    "print(a - b)\n",
    "print(a * b)\n",
    "print(a / b)\n",
    "print(a // b)\n",
    "print(a % b)\n",
    "print(a ** b)"
   ]
  },
  {
   "cell_type": "code",
   "execution_count": 77,
   "id": "ffbdc5b7-2327-4923-8e2f-0c862a352d74",
   "metadata": {},
   "outputs": [
    {
     "name": "stdin",
     "output_type": "stream",
     "text": [
      "first number: 3\n",
      "second number: 6\n"
     ]
    },
    {
     "name": "stdout",
     "output_type": "stream",
     "text": [
      "False\n",
      "True\n",
      "True\n",
      "False\n",
      "True\n",
      "False\n"
     ]
    }
   ],
   "source": [
    "# compression operator\n",
    "a = int(input(\"first number:\"))\n",
    "b = int(input(\"second number:\"))\n",
    "print(a == b)\n",
    "print(a != b)\n",
    "print(a < b)\n",
    "print(a > b)\n",
    "print(a <= b)\n",
    "print(a >= b)"
   ]
  },
  {
   "cell_type": "code",
   "execution_count": 78,
   "id": "c8493a79-25c9-44e0-856b-d8948fd162d0",
   "metadata": {},
   "outputs": [
    {
     "name": "stdin",
     "output_type": "stream",
     "text": [
      "first number: 7\n",
      "second number: 4\n"
     ]
    },
    {
     "name": "stdout",
     "output_type": "stream",
     "text": [
      "21\n"
     ]
    }
   ],
   "source": [
    "# assignment operator\n",
    "a = int(input(\"first number:\"))\n",
    "b = int(input(\"second number:\"))\n",
    "num = a + b\n",
    "num += 10\n",
    "# num -= 20\n",
    "# num *= 2\n",
    "# num /= 2\n",
    "# num %= 2\n",
    "print(num)\n",
    "\n"
   ]
  },
  {
   "cell_type": "code",
   "execution_count": 79,
   "id": "5411e642-65b9-4818-adb6-e9815910e5c0",
   "metadata": {},
   "outputs": [
    {
     "name": "stdin",
     "output_type": "stream",
     "text": [
      "enter True / False: true\n",
      "enter True / False: false\n"
     ]
    },
    {
     "name": "stdout",
     "output_type": "stream",
     "text": [
      "and operator: false\n",
      "or operator: true\n",
      "not operator: True\n"
     ]
    }
   ],
   "source": [
    "# logical operator\n",
    "val1 = input(\"enter True / False:\")\n",
    "val2 = input(\"enter True / False:\")\n",
    "print(\"and operator:\", val1 and val2)\n",
    "print(\"or operator:\", val1 or val2)\n",
    "print(\"not operator:\", not False)"
   ]
  },
  {
   "cell_type": "code",
   "execution_count": 80,
   "id": "b8016af9-df7c-4fc3-aa8e-2baaffc03cfd",
   "metadata": {},
   "outputs": [
    {
     "name": "stdout",
     "output_type": "stream",
     "text": [
      "@@@@@@@@@@@@@@@@\n"
     ]
    }
   ],
   "source": [
    "# tpe conversion\n",
    "a = int(\"2\")\n",
    "b = 2\n",
    "c = \"@@@@\"\n",
    "print((a * b) * c)"
   ]
  },
  {
   "cell_type": "code",
   "execution_count": 81,
   "id": "9a4dc92c-7f99-40f2-80f4-a90dddc3c68b",
   "metadata": {},
   "outputs": [
    {
     "name": "stdin",
     "output_type": "stream",
     "text": [
      "your name SADAF\n",
      "enter any integer 22\n",
      "enter any float 500000\n"
     ]
    }
   ],
   "source": [
    "# input in python\n",
    "name = input(\"your name\") \n",
    "age = int(input(\"enter any integer\"))\n",
    "salary = float(input(\"enter any float\"))"
   ]
  },
  {
   "cell_type": "code",
   "execution_count": 82,
   "id": "c9eb096d-c196-4157-b6fb-aca5d853ca38",
   "metadata": {},
   "outputs": [
    {
     "name": "stdin",
     "output_type": "stream",
     "text": [
      "first number: 5\n",
      "second number: 6\n"
     ]
    },
    {
     "name": "stdout",
     "output_type": "stream",
     "text": [
      "11\n"
     ]
    }
   ],
   "source": [
    "# pratice question\n",
    "num_1 = int(input(\"first number:\"))\n",
    "num_2 = int(input(\"second number:\"))\n",
    "sum = num_1 + num_2\n",
    "print(sum)"
   ]
  },
  {
   "cell_type": "code",
   "execution_count": 83,
   "id": "b69c526e-2ded-4c6e-8efd-835331b127b3",
   "metadata": {},
   "outputs": [
    {
     "name": "stdin",
     "output_type": "stream",
     "text": [
      "side of a square: 6\n"
     ]
    },
    {
     "name": "stdout",
     "output_type": "stream",
     "text": [
      "36\n"
     ]
    }
   ],
   "source": [
    "# pratice question\n",
    "side = int(input(\"side of a square:\"))\n",
    "area = side **2\n",
    "print(area)\n"
   ]
  },
  {
   "cell_type": "code",
   "execution_count": 84,
   "id": "74e59b81-4ab9-47e4-9c6f-2bdca530f7ed",
   "metadata": {},
   "outputs": [
    {
     "name": "stdin",
     "output_type": "stream",
     "text": [
      "first number: 6\n",
      "second number: 5\n"
     ]
    },
    {
     "name": "stdout",
     "output_type": "stream",
     "text": [
      "5.5\n"
     ]
    }
   ],
   "source": [
    "# pratice question\n",
    "num_1 = float(input(\"first number:\"))\n",
    "num_2 = float(input(\"second number:\"))\n",
    "avg = (num_1 + num_2)/2\n",
    "print(avg)"
   ]
  },
  {
   "cell_type": "code",
   "execution_count": 85,
   "id": "bc08cd69-94c6-4647-840b-9abec2cbd837",
   "metadata": {},
   "outputs": [
    {
     "name": "stdin",
     "output_type": "stream",
     "text": [
      "first number: 5\n",
      "second number: 4\n"
     ]
    },
    {
     "name": "stdout",
     "output_type": "stream",
     "text": [
      "True\n"
     ]
    }
   ],
   "source": [
    "# pratice question\n",
    "a = int(input(\"first number:\"))\n",
    "b = int(input(\"second number:\"))\n",
    "if a >= b:\n",
    "    print(True)\n",
    "else:\n",
    "    print(False)"
   ]
  },
  {
   "cell_type": "code",
   "execution_count": 86,
   "id": "9d07c416-0b8d-416d-9ce9-6a95b9b1d831",
   "metadata": {},
   "outputs": [
    {
     "name": "stdout",
     "output_type": "stream",
     "text": [
      "hello world\n"
     ]
    }
   ],
   "source": [
    "# string concatination\n",
    "str1 = \"hello\"\n",
    "str2 = \"world\"\n",
    "print(str1 + \" \" + str2)"
   ]
  },
  {
   "cell_type": "code",
   "execution_count": 87,
   "id": "0604729f-66f4-47b4-8d27-fa40174ff52b",
   "metadata": {},
   "outputs": [
    {
     "name": "stdout",
     "output_type": "stream",
     "text": [
      "5\n"
     ]
    }
   ],
   "source": [
    "# length of string\n",
    "lenth = len(str1)\n",
    "print(lenth)"
   ]
  },
  {
   "cell_type": "code",
   "execution_count": 88,
   "id": "4dcef3e0-5a44-42dd-8478-c43b1c75db95",
   "metadata": {},
   "outputs": [
    {
     "name": "stdout",
     "output_type": "stream",
     "text": [
      "e\n"
     ]
    }
   ],
   "source": [
    "# indexing of string\n",
    "print(str1[1])\n"
   ]
  },
  {
   "cell_type": "code",
   "execution_count": 89,
   "id": "0c603c31-7448-45cd-a40f-75cb1b2ec232",
   "metadata": {},
   "outputs": [
    {
     "name": "stdout",
     "output_type": "stream",
     "text": [
      "ell\n",
      "hell\n",
      "ello\n",
      "ello\n"
     ]
    }
   ],
   "source": [
    "# slicing of string\n",
    "print(str1[1:4])\n",
    "print(str1[0:4])\n",
    "print(str1[1:])\n",
    "print(str1[1:len(str1)])"
   ]
  },
  {
   "cell_type": "code",
   "execution_count": 90,
   "id": "4ce36288-2327-4d7a-a5b5-7216dc0cafc2",
   "metadata": {},
   "outputs": [
    {
     "name": "stdout",
     "output_type": "stream",
     "text": [
      "banana\n",
      "nana apple\n"
     ]
    }
   ],
   "source": [
    "# negative indexing\n",
    "str = \"banana apple\"\n",
    "print(str[-12 : -6])\n",
    "print(str[-10 : ])\n"
   ]
  },
  {
   "cell_type": "code",
   "execution_count": 91,
   "id": "0d1b6d99-7668-484d-acb1-00262affea25",
   "metadata": {},
   "outputs": [
    {
     "data": {
      "text/plain": [
       "True"
      ]
     },
     "execution_count": 91,
     "metadata": {},
     "output_type": "execute_result"
    }
   ],
   "source": [
    "str.endswith(\"le\")"
   ]
  },
  {
   "cell_type": "code",
   "execution_count": 92,
   "id": "9352f0ab-aa73-4591-b6d5-9f14a4830494",
   "metadata": {},
   "outputs": [
    {
     "data": {
      "text/plain": [
       "'Banana apple'"
      ]
     },
     "execution_count": 92,
     "metadata": {},
     "output_type": "execute_result"
    }
   ],
   "source": [
    "str.capitalize()\n"
   ]
  },
  {
   "cell_type": "code",
   "execution_count": 93,
   "id": "c3c12a3a-3106-474e-9b2d-0d33e11a0356",
   "metadata": {},
   "outputs": [
    {
     "data": {
      "text/plain": [
       "'BANANA APPLE'"
      ]
     },
     "execution_count": 93,
     "metadata": {},
     "output_type": "execute_result"
    }
   ],
   "source": [
    "str.upper()"
   ]
  },
  {
   "cell_type": "code",
   "execution_count": 94,
   "id": "7ebb0582-1356-4681-b99a-a6c064a25bc5",
   "metadata": {},
   "outputs": [
    {
     "data": {
      "text/plain": [
       "'banana apple'"
      ]
     },
     "execution_count": 94,
     "metadata": {},
     "output_type": "execute_result"
    }
   ],
   "source": [
    "str.lower()"
   ]
  },
  {
   "cell_type": "code",
   "execution_count": 95,
   "id": "62345ce3-038e-4c9e-82dd-80ec65f0fade",
   "metadata": {},
   "outputs": [
    {
     "data": {
      "text/plain": [
       "'banana apple'"
      ]
     },
     "execution_count": 95,
     "metadata": {},
     "output_type": "execute_result"
    }
   ],
   "source": [
    "str.replace(\"Apple\",\"Peach\")"
   ]
  },
  {
   "cell_type": "code",
   "execution_count": 96,
   "id": "9593f776-588a-4cbb-ab8d-99f7d08af201",
   "metadata": {},
   "outputs": [
    {
     "data": {
      "text/plain": [
       "-1"
      ]
     },
     "execution_count": 96,
     "metadata": {},
     "output_type": "execute_result"
    }
   ],
   "source": [
    "str.find(\"Apple\")"
   ]
  },
  {
   "cell_type": "code",
   "execution_count": 97,
   "id": "2d10a565-e59e-4228-bd96-71c4390bb474",
   "metadata": {},
   "outputs": [
    {
     "data": {
      "text/plain": [
       "4"
      ]
     },
     "execution_count": 97,
     "metadata": {},
     "output_type": "execute_result"
    }
   ],
   "source": [
    "str.count(\"a\")"
   ]
  },
  {
   "cell_type": "code",
   "execution_count": 100,
   "id": "e693a7a1-53f9-4917-b12d-9b314fc6c118",
   "metadata": {},
   "outputs": [
    {
     "name": "stdin",
     "output_type": "stream",
     "text": [
      "your name: sadaf khan\n"
     ]
    },
    {
     "name": "stdout",
     "output_type": "stream",
     "text": [
      "10\n"
     ]
    }
   ],
   "source": [
    "name = input(\"your name:\")\n",
    "lengthOfName = len(name)\n",
    "print(lengthOfName)"
   ]
  },
  {
   "cell_type": "code",
   "execution_count": 103,
   "id": "b02dec61-d9d7-4242-8a10-6d46f88d26a4",
   "metadata": {},
   "outputs": [
    {
     "data": {
      "text/plain": [
       "15"
      ]
     },
     "execution_count": 103,
     "metadata": {},
     "output_type": "execute_result"
    }
   ],
   "source": [
    "strOne =\"$ My name is Sadaf $$ i am 2 years old $$$ my salary is 500000 $$$$ i live in london $$$$$\"\n",
    "strOne.count(\"$\")"
   ]
  },
  {
   "cell_type": "code",
   "execution_count": 104,
   "id": "5f11b53e-45a6-4959-938e-a296089efa8a",
   "metadata": {},
   "outputs": [
    {
     "name": "stdin",
     "output_type": "stream",
     "text": [
      "marks: 44\n"
     ]
    },
    {
     "name": "stdout",
     "output_type": "stream",
     "text": [
      "D\n"
     ]
    }
   ],
   "source": [
    "#conditional statement\n",
    "marks = int(input(\"marks:\"))\n",
    "if marks >= 90:\n",
    "    print(\"A\")\n",
    "elif marks > 80 and marks < 90:\n",
    "    print(\"B\")\n",
    "elif marks > 70 and marks < 80:\n",
    "    print(\"C\") \n",
    "else:\n",
    "    print(\"D\")"
   ]
  },
  {
   "cell_type": "code",
   "execution_count": 106,
   "id": "72193167-4ab2-4401-8bc0-8a54ac2b2c20",
   "metadata": {},
   "outputs": [
    {
     "name": "stdin",
     "output_type": "stream",
     "text": [
      "Enter a number 22\n"
     ]
    },
    {
     "name": "stdout",
     "output_type": "stream",
     "text": [
      "even number\n"
     ]
    }
   ],
   "source": [
    "# pratice question\n",
    "num = int(input(\"Enter a number\"))\n",
    "if num % 2 == 0:\n",
    "    print(\"even number\")\n",
    "else:\n",
    "    print(\"odd number\")"
   ]
  },
  {
   "cell_type": "code",
   "execution_count": 109,
   "id": "7ba51285-0ad0-4190-bf2b-a99df59928af",
   "metadata": {},
   "outputs": [
    {
     "name": "stdin",
     "output_type": "stream",
     "text": [
      "Enter first number 4\n",
      "Enter second number 3\n",
      "Enter third number 6\n"
     ]
    },
    {
     "name": "stdout",
     "output_type": "stream",
     "text": [
      "6\n"
     ]
    }
   ],
   "source": [
    "num_1 = int(input(\"Enter first number\"))\n",
    "num_2 = int(input(\"Enter second number\"))\n",
    "num_3 = int(input(\"Enter third number\"))\n",
    "gratestNumber = max(num_1, num_2, num_3)\n",
    "print(gratestNumber)"
   ]
  },
  {
   "cell_type": "code",
   "execution_count": 111,
   "id": "cf9300d6-45e9-4524-984f-9d73a386c5e3",
   "metadata": {},
   "outputs": [
    {
     "name": "stdin",
     "output_type": "stream",
     "text": [
      "Enter a number 33\n"
     ]
    },
    {
     "name": "stdout",
     "output_type": "stream",
     "text": [
      "Not a multiple of seven\n"
     ]
    }
   ],
   "source": [
    "num = int(input(\"Enter a number\"))\n",
    "if num % 7 == 0:\n",
    "    print(\"multiple of seven\")\n",
    "else:\n",
    "    print(\"Not a multiple of seven\")"
   ]
  },
  {
   "cell_type": "code",
   "execution_count": 115,
   "id": "54ea2a2c-2c30-4f26-b38c-16509a933dfd",
   "metadata": {},
   "outputs": [
    {
     "name": "stdout",
     "output_type": "stream",
     "text": [
      "[1, 2, 3, 4, 5, 6, 7, 8]\n",
      "8\n"
     ]
    }
   ],
   "source": [
    "# lists and tuples\n",
    "list_1 =[1, 2, 3, 4, 5, 6, 7, 8]\n",
    "print(list_1)\n",
    "print(len(list_1))"
   ]
  },
  {
   "cell_type": "code",
   "execution_count": 114,
   "id": "0947576c-f696-4153-9d4c-21208708b6ad",
   "metadata": {},
   "outputs": [
    {
     "data": {
      "text/plain": [
       "1"
      ]
     },
     "execution_count": 114,
     "metadata": {},
     "output_type": "execute_result"
    }
   ],
   "source": [
    "list_1[0]\n",
    "list_1[1]\n"
   ]
  },
  {
   "cell_type": "code",
   "execution_count": 116,
   "id": "cf017c4d-8840-4634-b0ed-534b47559b2b",
   "metadata": {},
   "outputs": [
    {
     "name": "stdout",
     "output_type": "stream",
     "text": [
      "['ali', 'hunza', 22, 99.9, 500000]\n"
     ]
    }
   ],
   "source": [
    "students = [\"sadaf\", \"hunza\", 22, 99.9, 500000]\n",
    "students[0]=\"ali\"\n",
    "print(students)"
   ]
  },
  {
   "cell_type": "code",
   "execution_count": 117,
   "id": "f82d4f96-e8bd-42b7-b4de-1797d2d86ca5",
   "metadata": {},
   "outputs": [
    {
     "data": {
      "text/plain": [
       "['hunza', 22, 99.9]"
      ]
     },
     "execution_count": 117,
     "metadata": {},
     "output_type": "execute_result"
    }
   ],
   "source": [
    "# slicing in list\n",
    "students[1:4]"
   ]
  },
  {
   "cell_type": "code",
   "execution_count": 118,
   "id": "fde261a4-2117-4a8a-8c6f-64db6f5716ea",
   "metadata": {},
   "outputs": [
    {
     "data": {
      "text/plain": [
       "[2, 3, 4, 5, 6, 7, 8, 9, 10, 11, 12, 13, 14, 15]"
      ]
     },
     "execution_count": 118,
     "metadata": {},
     "output_type": "execute_result"
    }
   ],
   "source": [
    "list_2 =[1, 2, 3, 4, 5, 6, 7, 8, 9, 10, 11, 12, 13, 14, 15]\n",
    "list_2[1:]"
   ]
  },
  {
   "cell_type": "code",
   "execution_count": 121,
   "id": "a2170d56-8d48-4008-b91e-056b144adea4",
   "metadata": {},
   "outputs": [
    {
     "data": {
      "text/plain": [
       "[10, 11, 12, 13, 14, 15]"
      ]
     },
     "execution_count": 121,
     "metadata": {},
     "output_type": "execute_result"
    }
   ],
   "source": [
    "list_2[-6:]"
   ]
  },
  {
   "cell_type": "code",
   "execution_count": 123,
   "id": "0e0f7797-9a5d-4e3a-a838-3368ee694fb6",
   "metadata": {},
   "outputs": [
    {
     "data": {
      "text/plain": [
       "[5, 6, 7, 8, 9, 10]"
      ]
     },
     "execution_count": 123,
     "metadata": {},
     "output_type": "execute_result"
    }
   ],
   "source": [
    "list_2[-11:-5]"
   ]
  },
  {
   "cell_type": "code",
   "execution_count": 124,
   "id": "2773fe9a-a564-43a6-9b2f-b85dd16fe84e",
   "metadata": {},
   "outputs": [
    {
     "data": {
      "text/plain": [
       "[4, 5, 6, 7, 8, 9, 10, 11, 12]"
      ]
     },
     "execution_count": 124,
     "metadata": {},
     "output_type": "execute_result"
    }
   ],
   "source": [
    "list_2[-12:-3]"
   ]
  },
  {
   "cell_type": "code",
   "execution_count": 131,
   "id": "9986dd9e-4953-489f-aace-2f04d7a37aff",
   "metadata": {},
   "outputs": [
    {
     "data": {
      "text/plain": [
       "20"
      ]
     },
     "execution_count": 131,
     "metadata": {},
     "output_type": "execute_result"
    }
   ],
   "source": [
    "len(list_2)"
   ]
  },
  {
   "cell_type": "code",
   "execution_count": 137,
   "id": "afee612b-11b9-41d6-a6b0-5c7504547c17",
   "metadata": {},
   "outputs": [
    {
     "name": "stdout",
     "output_type": "stream",
     "text": [
      "[1, 2, 3, 4, 5, 6, 7, 8, 9, 10, 11, 12, 13, 14, 15, [], [], 4, 4, 4, 4, 4, 4]\n"
     ]
    }
   ],
   "source": [
    "list_2.append(4)\n",
    "print(list_2)"
   ]
  },
  {
   "cell_type": "code",
   "execution_count": 151,
   "id": "1a235e79-74ab-4cdb-802a-62ba276236d3",
   "metadata": {},
   "outputs": [
    {
     "data": {
      "text/plain": [
       "[]"
      ]
     },
     "execution_count": 151,
     "metadata": {},
     "output_type": "execute_result"
    }
   ],
   "source": [
    "list_2.pop()"
   ]
  },
  {
   "cell_type": "code",
   "execution_count": 152,
   "id": "189077c8-2c35-400d-bcd6-a2040fb6bba1",
   "metadata": {},
   "outputs": [
    {
     "name": "stdout",
     "output_type": "stream",
     "text": [
      "[1, 2, 3, 4, 5, 6, 7, 8, 9, 10, 11, 12, 13, 14, 15]\n"
     ]
    }
   ],
   "source": [
    "print(list_2)"
   ]
  },
  {
   "cell_type": "code",
   "execution_count": 159,
   "id": "2fd44ea8-dc51-4989-9e8e-1f7b7a61efcf",
   "metadata": {},
   "outputs": [
    {
     "name": "stdout",
     "output_type": "stream",
     "text": [
      "[15, 14, 13, 12, 11, 10, 9, 8, 7, 6, 5, 4, 3, 2, 1]\n"
     ]
    }
   ],
   "source": [
    "list_2.reverse()\n",
    "print(list_2)"
   ]
  },
  {
   "cell_type": "code",
   "execution_count": 161,
   "id": "395cc73f-d38f-4ffa-b3f4-ed7b11a2fa85",
   "metadata": {},
   "outputs": [
    {
     "name": "stdout",
     "output_type": "stream",
     "text": [
      "[1, 2, 3, 4, 5, 6, 7, 8, 9, 10, 11, 12, 13, 14, 15]\n"
     ]
    }
   ],
   "source": [
    "list_2.sort()\n",
    "print(list_2)\n"
   ]
  },
  {
   "cell_type": "code",
   "execution_count": 162,
   "id": "e885de07-90c4-49bd-ab3f-2a87aac0694b",
   "metadata": {},
   "outputs": [
    {
     "name": "stdout",
     "output_type": "stream",
     "text": [
      "[1, 2, 3, 4, 5, 6, 7, 8, 9, 10, 11, 12, 13, 14, 15, 16]\n"
     ]
    }
   ],
   "source": [
    "list_2.insert(16,16)\n",
    "print(list_2)"
   ]
  },
  {
   "cell_type": "code",
   "execution_count": 163,
   "id": "f9b776ac-b6c4-4d5e-87bf-b78c8691c966",
   "metadata": {},
   "outputs": [
    {
     "name": "stdout",
     "output_type": "stream",
     "text": [
      "[1, 2, 3, 4, 5, 6, 7, 8, 9, 10, 11, 12, 13, 14, 15]\n"
     ]
    }
   ],
   "source": [
    "list_2.remove(16)\n",
    "print(list_2)"
   ]
  },
  {
   "cell_type": "code",
   "execution_count": 165,
   "id": "d66e896f-b7fa-4c71-84c8-47d078bc4d8c",
   "metadata": {},
   "outputs": [
    {
     "name": "stdout",
     "output_type": "stream",
     "text": [
      "(11, 12, 13, 14, 15, 16, 17, 18, 19, 20)\n",
      "<class 'tuple'>\n"
     ]
    }
   ],
   "source": [
    "# tuples in python\n",
    "tup_1 = (11, 12, 13, 14, 15, 16, 17, 18, 19, 20)\n",
    "print(tup_1 )\n",
    "print(type(tup_1))\n"
   ]
  },
  {
   "cell_type": "code",
   "execution_count": 168,
   "id": "c62ebe68-0154-4238-805e-f2aa070779d4",
   "metadata": {},
   "outputs": [
    {
     "data": {
      "text/plain": [
       "13"
      ]
     },
     "execution_count": 168,
     "metadata": {},
     "output_type": "execute_result"
    }
   ],
   "source": [
    "# indexing in tuple\n",
    "tup_1[0] \n",
    "tup_1[1] \n",
    "tup_1[2] "
   ]
  },
  {
   "cell_type": "code",
   "execution_count": 169,
   "id": "e101693d-1a57-4fe0-8ccc-a764f0c4e49b",
   "metadata": {},
   "outputs": [
    {
     "data": {
      "text/plain": [
       "(13, 14, 15, 16)"
      ]
     },
     "execution_count": 169,
     "metadata": {},
     "output_type": "execute_result"
    }
   ],
   "source": [
    "# slicing in tuple\n",
    "tup_1[2:6]"
   ]
  },
  {
   "cell_type": "code",
   "execution_count": 170,
   "id": "7b5018e9-bfc5-4a7b-8d0f-9bc2551e25a1",
   "metadata": {},
   "outputs": [
    {
     "name": "stdout",
     "output_type": "stream",
     "text": [
      "()\n",
      "<class 'tuple'>\n"
     ]
    }
   ],
   "source": [
    "# empty tupple\n",
    "tup_2 = ()\n",
    "print(tup_2 )\n",
    "print(type(tup_2))"
   ]
  },
  {
   "cell_type": "code",
   "execution_count": 175,
   "id": "227c75f1-de08-4852-8398-7dfa252dcd0a",
   "metadata": {},
   "outputs": [
    {
     "name": "stdout",
     "output_type": "stream",
     "text": [
      "(3,)\n",
      "<class 'tuple'>\n"
     ]
    }
   ],
   "source": [
    "# tuple with single value\n",
    "tup_3 = (3,)\n",
    "print(tup_3 )\n",
    "print(type(tup_3))"
   ]
  },
  {
   "cell_type": "code",
   "execution_count": 185,
   "id": "e5218899-2272-43ac-94c4-f87589aa221b",
   "metadata": {},
   "outputs": [
    {
     "name": "stdin",
     "output_type": "stream",
     "text": [
      "how many movies you want to store in a list 3\n",
      "enter three favrite movies name don\n",
      "enter three favrite movies name housefull2\n",
      "enter three favrite movies name golmal\n"
     ]
    },
    {
     "name": "stdout",
     "output_type": "stream",
     "text": [
      "['don', 'housefull2', 'golmal']\n"
     ]
    }
   ],
   "source": [
    "value = int(input(\"how many movies you want to store in a list\"))\n",
    "movies =[]\n",
    "for i in range(value):\n",
    "    fav_movie = input(\"enter three favrite movies name\")\n",
    "    movies.append(fav_movie)\n",
    "print(movies)"
   ]
  },
  {
   "cell_type": "code",
   "execution_count": 186,
   "id": "89a280f1-3930-4ff5-bf12-3343cfe63ed9",
   "metadata": {},
   "outputs": [
    {
     "name": "stdout",
     "output_type": "stream",
     "text": [
      "not palindrome\n"
     ]
    }
   ],
   "source": [
    "list = [1, 2, 3, 2, 1]\n",
    "new_list = list.copy()\n",
    "final_list = new_list.reverse()\n",
    "if list == final_list:\n",
    "    print(\"palindrome\")\n",
    "else:\n",
    "    print(\"not palindrome\")"
   ]
  },
  {
   "cell_type": "code",
   "execution_count": 187,
   "id": "0e5da6fe-2cbc-4fa1-a624-8d07b7e848b3",
   "metadata": {},
   "outputs": [
    {
     "data": {
      "text/plain": [
       "3"
      ]
     },
     "execution_count": 187,
     "metadata": {},
     "output_type": "execute_result"
    }
   ],
   "source": [
    "grades = (\"c\", \"d\", \"a\", \"a\", \"b\", \"b\", \"a\")\n",
    "grades.count(\"a\")"
   ]
  },
  {
   "cell_type": "code",
   "execution_count": 191,
   "id": "7fcf4537-1674-41c8-93b5-f6fdef2059b2",
   "metadata": {},
   "outputs": [
    {
     "name": "stdout",
     "output_type": "stream",
     "text": [
      "['a', 'a', 'a', 'b', 'b', 'c', 'd']\n"
     ]
    }
   ],
   "source": [
    "grades = [\"c\", \"d\", \"a\", \"a\", \"b\", \"b\", \"a\"]\n",
    "grades.sort()\n",
    "print(grades)"
   ]
  },
  {
   "cell_type": "code",
   "execution_count": 192,
   "id": "b42dd644-c6dd-4f81-b384-5c7be38af4bc",
   "metadata": {},
   "outputs": [
    {
     "name": "stdout",
     "output_type": "stream",
     "text": [
      "{'name': 'Sadaf', 'age': 22, ' marks': [98, 97, 95], 'cgpa': 3.5, 'city': 'gilgit'}\n",
      "<class 'dict'>\n"
     ]
    }
   ],
   "source": [
    "# Dictionary and sets\n",
    "dict = {\n",
    "    \"name\":\"Sadaf\",\n",
    "    \"age\": 22,\n",
    "    \" marks\":[98,97,95],\n",
    "    \"cgpa\":3.5,\n",
    "    \"city\":\"gilgit\"\n",
    "}\n",
    "print(dict)\n",
    "print(type(dict))\n"
   ]
  },
  {
   "cell_type": "code",
   "execution_count": 193,
   "id": "b0771694-f439-41c6-8e7a-3c717123142f",
   "metadata": {},
   "outputs": [
    {
     "data": {
      "text/plain": [
       "'Sadaf'"
      ]
     },
     "execution_count": 193,
     "metadata": {},
     "output_type": "execute_result"
    }
   ],
   "source": [
    "dict[\"name\"]"
   ]
  },
  {
   "cell_type": "code",
   "execution_count": 195,
   "id": "d3c21c50-1a06-4711-be32-b6dfed9d9300",
   "metadata": {},
   "outputs": [
    {
     "name": "stdout",
     "output_type": "stream",
     "text": [
      "{'name': 'khan', 'age': 22, ' marks': [98, 97, 95], 'cgpa': 3.5, 'city': 'gilgit'}\n"
     ]
    }
   ],
   "source": [
    "dict[\"name\"]=\"khan\"\n",
    "print(dict)"
   ]
  },
  {
   "cell_type": "code",
   "execution_count": 196,
   "id": "f704acf2-6337-45cd-b129-80a4c5c784ae",
   "metadata": {},
   "outputs": [
    {
     "name": "stdout",
     "output_type": "stream",
     "text": [
      "{'name': 'khan', 'age': 22, ' marks': [98, 97, 95], 'cgpa': 3.5, 'city': 'gilgit', 'country': 'pakistan'}\n"
     ]
    }
   ],
   "source": [
    "dict[\"country\"]=\"pakistan\"\n",
    "print(dict)"
   ]
  },
  {
   "cell_type": "code",
   "execution_count": 199,
   "id": "68386283-c676-4003-8a14-1af2cacafcb9",
   "metadata": {},
   "outputs": [
    {
     "name": "stdout",
     "output_type": "stream",
     "text": [
      "{'name': 'sadaf khan', 'age': 22}\n"
     ]
    }
   ],
   "source": [
    "null_dict = {}\n",
    "null_dict[\"name\"]=\"sadaf khan\"\n",
    "null_dict[\"age\"]=22\n",
    "print(null_dict)"
   ]
  },
  {
   "cell_type": "code",
   "execution_count": 208,
   "id": "c60d7483-fe05-44e8-a72e-a5f14f0683b7",
   "metadata": {},
   "outputs": [
    {
     "name": "stdout",
     "output_type": "stream",
     "text": [
      "{'name': 'Sadaf', 'age': 22, 'subjects': {'math': 98, 'english': 97, 'urdu': 95}, 'cgpa': 3.5, 'city': 'gilgit'}\n",
      "<class 'dict'>\n"
     ]
    }
   ],
   "source": [
    "# nested dictionary\n",
    "student1 = {\n",
    "    \"name\":\"Sadaf\",\n",
    "    \"age\": 22,\n",
    "    \"subjects\":{\n",
    "        \"math\": 98,\n",
    "         \"english\":97,\n",
    "        \"urdu\":95\n",
    "    },\n",
    "    \"cgpa\":3.5,\n",
    "    \"city\":\"gilgit\"\n",
    "}\n",
    "print(student1)\n",
    "print(type(student1))"
   ]
  },
  {
   "cell_type": "code",
   "execution_count": 211,
   "id": "1527dd15-d753-45eb-805a-a482280bbdd7",
   "metadata": {},
   "outputs": [
    {
     "name": "stdout",
     "output_type": "stream",
     "text": [
      "98\n"
     ]
    }
   ],
   "source": [
    "print(student1[\"subjects\"][\"math\"])"
   ]
  },
  {
   "cell_type": "code",
   "execution_count": 220,
   "id": "31a95329-63b5-455e-b64f-71f4b783cc4d",
   "metadata": {},
   "outputs": [
    {
     "data": {
      "text/plain": [
       "dict_keys(['name', 'age', 'subjects', 'cgpa', 'city'])"
      ]
     },
     "execution_count": 220,
     "metadata": {},
     "output_type": "execute_result"
    }
   ],
   "source": [
    "student1.keys()"
   ]
  },
  {
   "cell_type": "code",
   "execution_count": 213,
   "id": "7bbcdd2a-2de6-451e-b3c3-64f7b1e52f22",
   "metadata": {},
   "outputs": [
    {
     "data": {
      "text/plain": [
       "dict_values(['Sadaf', 22, {'math': 98, 'english': 97, 'urdu': 95}, 3.5, 'gilgit'])"
      ]
     },
     "execution_count": 213,
     "metadata": {},
     "output_type": "execute_result"
    }
   ],
   "source": [
    "student1.values()"
   ]
  },
  {
   "cell_type": "code",
   "execution_count": 214,
   "id": "955ff951-74d6-45dd-8bcf-1a462325f38f",
   "metadata": {},
   "outputs": [
    {
     "data": {
      "text/plain": [
       "dict_items([('name', 'Sadaf'), ('age', 22), ('subjects', {'math': 98, 'english': 97, 'urdu': 95}), ('cgpa', 3.5), ('city', 'gilgit')])"
      ]
     },
     "execution_count": 214,
     "metadata": {},
     "output_type": "execute_result"
    }
   ],
   "source": [
    "student1.items()"
   ]
  },
  {
   "cell_type": "code",
   "execution_count": 228,
   "id": "96994ffe-ab7c-473e-883f-86a439d098eb",
   "metadata": {},
   "outputs": [
    {
     "data": {
      "text/plain": [
       "{'math': 98, 'english': 97, 'urdu': 95}"
      ]
     },
     "execution_count": 228,
     "metadata": {},
     "output_type": "execute_result"
    }
   ],
   "source": [
    "student1.get(\"subjects\")"
   ]
  },
  {
   "cell_type": "code",
   "execution_count": 231,
   "id": "f84daf81-07a5-4810-bd72-e3fdfecfd7e6",
   "metadata": {},
   "outputs": [
    {
     "name": "stdout",
     "output_type": "stream",
     "text": [
      "{'name': 'Sadaf', 'age': 22, 'subjects': {'math': 98, 'english': 97, 'urdu': 95}, 'cgpa': 3.5, 'city': 'gilgit', 'fav_place': 'hunza', 'birth_place': 'hunza'}\n"
     ]
    }
   ],
   "source": [
    "student1.update({\"fav_place\":\"hunza\", \"birth_place\":\"hunza\"})\n",
    "print(student1)"
   ]
  },
  {
   "cell_type": "code",
   "execution_count": 236,
   "id": "035d5e0b-16ac-46ca-ba3e-0247f1075aca",
   "metadata": {},
   "outputs": [
    {
     "name": "stdout",
     "output_type": "stream",
     "text": [
      "{1, 2, 3, 5, 'a', 7, 'b', 'c'}\n",
      "<class 'set'>\n"
     ]
    }
   ],
   "source": [
    "# sets\n",
    "collections = {1,2,3,\"a\",5,\"b\",7,\"c\"}\n",
    "print(collections)\n",
    "print(type(collections))"
   ]
  },
  {
   "cell_type": "code",
   "execution_count": 237,
   "id": "14786720-0b9c-4513-8f89-97de9d837d3f",
   "metadata": {},
   "outputs": [
    {
     "name": "stdout",
     "output_type": "stream",
     "text": [
      "set()\n",
      "<class 'set'>\n"
     ]
    }
   ],
   "source": [
    "# empty set\n",
    "empty_set = set()\n",
    "print(empty_set)\n",
    "print(type(empty_set))"
   ]
  },
  {
   "cell_type": "code",
   "execution_count": 261,
   "id": "6bf2791b-2f0f-4245-beaf-3f5e9d66f001",
   "metadata": {},
   "outputs": [],
   "source": [
    "empty_set.add(1)\n",
    "empty_set.add(\"khan\")\n",
    "empty_set.add(\"sahib\")\n",
    "empty_set.add(\"gulvi\")"
   ]
  },
  {
   "cell_type": "code",
   "execution_count": 271,
   "id": "ee1bd5ad-cbd6-4a58-ba72-f780ed83c955",
   "metadata": {},
   "outputs": [],
   "source": [
    "empty_set.add(2)\n",
    "empty_set.add(\"sadaf\")\n",
    "empty_set.add((1,2,3,4,5))"
   ]
  },
  {
   "cell_type": "code",
   "execution_count": 272,
   "id": "b2db0d9f-a11d-4d13-b124-0d6ea46f630b",
   "metadata": {},
   "outputs": [],
   "source": [
    "empty_set.add(3)\n",
    "empty_set.add(4)\n",
    "empty_set.add(5)"
   ]
  },
  {
   "cell_type": "code",
   "execution_count": 273,
   "id": "13e2e2a2-1920-48d6-b1b3-2016c9999154",
   "metadata": {},
   "outputs": [
    {
     "name": "stdout",
     "output_type": "stream",
     "text": [
      "{2, 3, 4, 5, 'sadaf', (1, 2, 3, 4, 5)}\n"
     ]
    }
   ],
   "source": [
    "print(empty_set)"
   ]
  },
  {
   "cell_type": "code",
   "execution_count": 274,
   "id": "44e1605e-5a40-47a0-8daa-0eb0555808b9",
   "metadata": {},
   "outputs": [],
   "source": [
    "empty_set.remove(\"sadaf\")"
   ]
  },
  {
   "cell_type": "code",
   "execution_count": 275,
   "id": "da82c14a-fc80-4a9b-8e0a-f6b927f0e852",
   "metadata": {},
   "outputs": [
    {
     "name": "stdout",
     "output_type": "stream",
     "text": [
      "{2, 3, 4, 5, (1, 2, 3, 4, 5)}\n"
     ]
    }
   ],
   "source": [
    "print(empty_set)"
   ]
  },
  {
   "cell_type": "code",
   "execution_count": 276,
   "id": "49a8cdaf-b9b9-4de7-8eab-1bbbe5e92efa",
   "metadata": {},
   "outputs": [
    {
     "data": {
      "text/plain": [
       "2"
      ]
     },
     "execution_count": 276,
     "metadata": {},
     "output_type": "execute_result"
    }
   ],
   "source": [
    "empty_set.pop()"
   ]
  },
  {
   "cell_type": "code",
   "execution_count": 277,
   "id": "5a04622e-c0b0-45cc-81b8-ab704556b495",
   "metadata": {},
   "outputs": [],
   "source": [
    "empty_set.clear()"
   ]
  },
  {
   "cell_type": "code",
   "execution_count": 282,
   "id": "0fa5f0de-1052-4f12-918c-37d093d7a257",
   "metadata": {},
   "outputs": [
    {
     "data": {
      "text/plain": [
       "{1, 2, 3, 4, 5, 6}"
      ]
     },
     "execution_count": 282,
     "metadata": {},
     "output_type": "execute_result"
    }
   ],
   "source": [
    "set1 = {1, 2, 3, 4}\n",
    "set2 = {3, 4, 5, 6}\n",
    "set1.union(set2)\n"
   ]
  },
  {
   "cell_type": "code",
   "execution_count": 283,
   "id": "8236f809-4a3c-40e5-9481-30d34a647f9d",
   "metadata": {},
   "outputs": [
    {
     "data": {
      "text/plain": [
       "{3, 4}"
      ]
     },
     "execution_count": 283,
     "metadata": {},
     "output_type": "execute_result"
    }
   ],
   "source": [
    "set1.intersection(set2)"
   ]
  },
  {
   "cell_type": "code",
   "execution_count": 284,
   "id": "2bba5370-a5de-49cf-a747-54eb3c6407c1",
   "metadata": {},
   "outputs": [
    {
     "name": "stdout",
     "output_type": "stream",
     "text": [
      "{'table': ['a piece of furniture', 'list of facte and figures'], 'cat': 'a small animal'}\n"
     ]
    }
   ],
   "source": [
    "# pratice question\n",
    "dict4 ={\n",
    "    \"table\":[\"a piece of furniture\",\"list of facte and figures\"],\n",
    "    \"cat\":\"a small animal\"\n",
    "}\n",
    "print(dict4)"
   ]
  },
  {
   "cell_type": "code",
   "execution_count": 9,
   "id": "4e3eda10-9d64-4a24-bcf6-8a0ba77fff4b",
   "metadata": {},
   "outputs": [
    {
     "data": {
      "text/plain": [
       "5"
      ]
     },
     "execution_count": 9,
     "metadata": {},
     "output_type": "execute_result"
    }
   ],
   "source": [
    "# pratice question\n",
    "classrooms = {\"python\", \"java\", \"C++\", \"python\", \"javascript\", \"java\", \"python\", \"java\", \"C++\", \"C\"}\n",
    "len(classrooms)"
   ]
  },
  {
   "cell_type": "code",
   "execution_count": 10,
   "id": "42e1616d-a28f-401f-87b1-c3057cef21ce",
   "metadata": {},
   "outputs": [
    {
     "name": "stdin",
     "output_type": "stream",
     "text": [
      "enter phy :  66\n",
      "enter che:  88\n",
      "enter math :  99\n"
     ]
    },
    {
     "name": "stdout",
     "output_type": "stream",
     "text": [
      "{'phy': 66, 'che': 88, 'math': 99}\n"
     ]
    }
   ],
   "source": [
    "marks = {}\n",
    "x = int(input(\"enter phy : \"))\n",
    "marks.update({\"phy\" : x})\n",
    "x = int(input(\"enter che: \"))\n",
    "marks.update({\"che\" : x})\n",
    "x = int(input(\"enter math : \"))\n",
    "marks.update({\"math\" : x})\n",
    "print(marks)"
   ]
  },
  {
   "cell_type": "code",
   "execution_count": 13,
   "id": "78e4ef9c-726b-40f1-a4e9-e3795f06dc6f",
   "metadata": {},
   "outputs": [
    {
     "name": "stdout",
     "output_type": "stream",
     "text": [
      "{9, '9.0'}\n"
     ]
    }
   ],
   "source": [
    "values = {9, \"9.0\"}\n",
    "print(values)"
   ]
  },
  {
   "cell_type": "code",
   "execution_count": 15,
   "id": "c164b93e-bd36-4f02-a739-02592febf954",
   "metadata": {},
   "outputs": [
    {
     "name": "stdout",
     "output_type": "stream",
     "text": [
      "hello\n",
      "hello\n",
      "hello\n",
      "hello\n",
      "hello\n"
     ]
    }
   ],
   "source": [
    "# loops\n",
    "# while loop\n",
    "x = 1\n",
    "while x <= 5:\n",
    "    print(\"hello\")\n",
    "    x = x + 1"
   ]
  },
  {
   "cell_type": "code",
   "execution_count": 16,
   "id": "08eb42d9-e558-42d6-911b-e3e2de4f0246",
   "metadata": {},
   "outputs": [
    {
     "name": "stdout",
     "output_type": "stream",
     "text": [
      "1\n",
      "2\n",
      "3\n",
      "4\n",
      "5\n",
      "6\n",
      "7\n",
      "8\n",
      "9\n",
      "10\n",
      "11\n",
      "12\n",
      "13\n",
      "14\n",
      "15\n",
      "16\n",
      "17\n",
      "18\n",
      "19\n",
      "20\n",
      "21\n",
      "22\n",
      "23\n",
      "24\n",
      "25\n",
      "26\n",
      "27\n",
      "28\n",
      "29\n",
      "30\n",
      "31\n",
      "32\n",
      "33\n",
      "34\n",
      "35\n",
      "36\n",
      "37\n",
      "38\n",
      "39\n",
      "40\n",
      "41\n",
      "42\n",
      "43\n",
      "44\n",
      "45\n",
      "46\n",
      "47\n",
      "48\n",
      "49\n",
      "50\n",
      "51\n",
      "52\n",
      "53\n",
      "54\n",
      "55\n",
      "56\n",
      "57\n",
      "58\n",
      "59\n",
      "60\n",
      "61\n",
      "62\n",
      "63\n",
      "64\n",
      "65\n",
      "66\n",
      "67\n",
      "68\n",
      "69\n",
      "70\n",
      "71\n",
      "72\n",
      "73\n",
      "74\n",
      "75\n",
      "76\n",
      "77\n",
      "78\n",
      "79\n",
      "80\n",
      "81\n",
      "82\n",
      "83\n",
      "84\n",
      "85\n",
      "86\n",
      "87\n",
      "88\n",
      "89\n",
      "90\n",
      "91\n",
      "92\n",
      "93\n",
      "94\n",
      "95\n",
      "96\n",
      "97\n",
      "98\n",
      "99\n",
      "100\n"
     ]
    }
   ],
   "source": [
    "x = 1\n",
    "while x <= 100:\n",
    "    print(x)\n",
    "    x = x + 1"
   ]
  },
  {
   "cell_type": "code",
   "execution_count": 17,
   "id": "61cc170b-b051-40b8-8d1c-b63cf2b31201",
   "metadata": {},
   "outputs": [
    {
     "name": "stdout",
     "output_type": "stream",
     "text": [
      "100\n",
      "99\n",
      "98\n",
      "97\n",
      "96\n",
      "95\n",
      "94\n",
      "93\n",
      "92\n",
      "91\n",
      "90\n",
      "89\n",
      "88\n",
      "87\n",
      "86\n",
      "85\n",
      "84\n",
      "83\n",
      "82\n",
      "81\n",
      "80\n",
      "79\n",
      "78\n",
      "77\n",
      "76\n",
      "75\n",
      "74\n",
      "73\n",
      "72\n",
      "71\n",
      "70\n",
      "69\n",
      "68\n",
      "67\n",
      "66\n",
      "65\n",
      "64\n",
      "63\n",
      "62\n",
      "61\n",
      "60\n",
      "59\n",
      "58\n",
      "57\n",
      "56\n",
      "55\n",
      "54\n",
      "53\n",
      "52\n",
      "51\n",
      "50\n",
      "49\n",
      "48\n",
      "47\n",
      "46\n",
      "45\n",
      "44\n",
      "43\n",
      "42\n",
      "41\n",
      "40\n",
      "39\n",
      "38\n",
      "37\n",
      "36\n",
      "35\n",
      "34\n",
      "33\n",
      "32\n",
      "31\n",
      "30\n",
      "29\n",
      "28\n",
      "27\n",
      "26\n",
      "25\n",
      "24\n",
      "23\n",
      "22\n",
      "21\n",
      "20\n",
      "19\n",
      "18\n",
      "17\n",
      "16\n",
      "15\n",
      "14\n",
      "13\n",
      "12\n",
      "11\n",
      "10\n",
      "9\n",
      "8\n",
      "7\n",
      "6\n",
      "5\n",
      "4\n",
      "3\n",
      "2\n",
      "1\n"
     ]
    }
   ],
   "source": [
    "x = 100\n",
    "while x >= 1:\n",
    "    print(x)\n",
    "    x = x - 1"
   ]
  },
  {
   "cell_type": "code",
   "execution_count": 20,
   "id": "b346e078-88fe-477c-aefb-322caf9513a9",
   "metadata": {},
   "outputs": [
    {
     "name": "stdin",
     "output_type": "stream",
     "text": [
      "enter a number :  22\n"
     ]
    },
    {
     "name": "stdout",
     "output_type": "stream",
     "text": [
      "22 * 1 = 22\n",
      "22 * 2 = 44\n",
      "22 * 3 = 66\n",
      "22 * 4 = 88\n",
      "22 * 5 = 110\n",
      "22 * 6 = 132\n",
      "22 * 7 = 154\n",
      "22 * 8 = 176\n",
      "22 * 9 = 198\n",
      "22 * 10 = 220\n"
     ]
    }
   ],
   "source": [
    "n = int(input(\"enter a number : \"))\n",
    "x = 1\n",
    "while x <= 10:\n",
    "    print(n , \"*\", x, \"=\", n * x)\n",
    "    x = x + 1"
   ]
  },
  {
   "cell_type": "code",
   "execution_count": 26,
   "id": "fe374022-3d7a-415f-9339-80b7ff1f4e39",
   "metadata": {},
   "outputs": [
    {
     "name": "stdout",
     "output_type": "stream",
     "text": [
      "1\n",
      "4\n",
      "9\n",
      "16\n",
      "25\n",
      "36\n",
      "49\n",
      "64\n",
      "81\n",
      "100\n"
     ]
    }
   ],
   "source": [
    "lst = [1, 4, 9, 16, 25, 36, 49, 64, 81, 100]\n",
    "idx =0\n",
    "while idx < len(lst):\n",
    "    print(lst[idx])\n",
    "    idx = idx + 1"
   ]
  },
  {
   "cell_type": "code",
   "execution_count": 4,
   "id": "7e55ce9c-41a1-4853-a41e-4032f986a69f",
   "metadata": {},
   "outputs": [
    {
     "name": "stdin",
     "output_type": "stream",
     "text": [
      "enter a number 36\n"
     ]
    },
    {
     "name": "stdout",
     "output_type": "stream",
     "text": [
      "finding...\n",
      "finding...\n",
      "finding...\n",
      "finding...\n",
      "finding...\n",
      "36 found at index 5\n"
     ]
    }
   ],
   "source": [
    "tup = (1, 4, 9, 16, 25, 36, 49, 64, 81, 100)\n",
    "x = int(input(\"enter a number\"))\n",
    "i = 0\n",
    "while i < len(tup):\n",
    "    if tup[i] == x:\n",
    "        print(x,\"found at index\", i)\n",
    "        break\n",
    "    else:\n",
    "        print(\"finding...\")\n",
    "    i = i + 1\n"
   ]
  },
  {
   "cell_type": "code",
   "execution_count": 2,
   "id": "e0bfeeb2-76f8-4e63-bb2b-410553903b57",
   "metadata": {},
   "outputs": [
    {
     "name": "stdout",
     "output_type": "stream",
     "text": [
      "1\n",
      "2\n",
      "3\n"
     ]
    }
   ],
   "source": [
    "# break and continue\n",
    "\n",
    "# break \n",
    "\n",
    "i = 1\n",
    "while i <= 5:\n",
    "    print(i)\n",
    "    if i == 3:\n",
    "        break\n",
    "    i = i + 1"
   ]
  },
  {
   "cell_type": "code",
   "execution_count": 1,
   "id": "4443b352-c64c-412e-8106-af9201fd9474",
   "metadata": {},
   "outputs": [
    {
     "name": "stdout",
     "output_type": "stream",
     "text": [
      "0\n",
      "1\n",
      "2\n",
      "4\n",
      "5\n"
     ]
    }
   ],
   "source": [
    "i = 0\n",
    "while i <= 5:\n",
    "    if i == 3:\n",
    "        i = i + 1\n",
    "        continue\n",
    "    print(i)\n",
    "    i = i + 1"
   ]
  },
  {
   "cell_type": "code",
   "execution_count": 2,
   "id": "4562e78a-f550-4747-bf82-c3d215c56d14",
   "metadata": {},
   "outputs": [
    {
     "name": "stdout",
     "output_type": "stream",
     "text": [
      "1\n",
      "3\n",
      "5\n",
      "7\n",
      "9\n",
      "11\n",
      "13\n",
      "15\n",
      "17\n",
      "19\n"
     ]
    }
   ],
   "source": [
    "i = 1\n",
    "while i <= 20:\n",
    "    if i % 2 == 0:\n",
    "        i = i + 1\n",
    "        continue\n",
    "    print(i)\n",
    "    i = i + 1"
   ]
  },
  {
   "cell_type": "code",
   "execution_count": 5,
   "id": "d8ec6dcf-2711-4796-97aa-33a791383a0a",
   "metadata": {},
   "outputs": [
    {
     "name": "stdout",
     "output_type": "stream",
     "text": [
      "1\n",
      "2\n",
      "3\n",
      "4\n",
      "5\n"
     ]
    }
   ],
   "source": [
    "# for loop\n",
    "lst = [1, 2, 3, 4, 5]\n",
    "for value in lst:\n",
    "    print(value)"
   ]
  },
  {
   "cell_type": "code",
   "execution_count": 6,
   "id": "7d601d7d-b964-4430-9ecc-f8e66065fb52",
   "metadata": {},
   "outputs": [
    {
     "name": "stdout",
     "output_type": "stream",
     "text": [
      "1\n",
      "2\n",
      "3\n",
      "4\n",
      "5\n"
     ]
    }
   ],
   "source": [
    "tup = (1, 2, 3, 4, 5)\n",
    "for value in tup:\n",
    "    print(value)"
   ]
  },
  {
   "cell_type": "code",
   "execution_count": 3,
   "id": "58e5902a-a5df-4f6d-b8ee-ef14b62912ca",
   "metadata": {},
   "outputs": [
    {
     "name": "stdout",
     "output_type": "stream",
     "text": [
      "s\n",
      "a\n",
      "d\n",
      "a\n",
      "f\n",
      "k\n",
      "h\n",
      "a\n",
      "n\n"
     ]
    }
   ],
   "source": [
    "str = \"sadafkhangulvii\"\n",
    "for char in str:\n",
    "    if char == \"g\":\n",
    "        break\n",
    "    print(char)"
   ]
  },
  {
   "cell_type": "code",
   "execution_count": 4,
   "id": "6ac016a1-7e5a-452b-b2ca-ec6e251072c1",
   "metadata": {},
   "outputs": [
    {
     "name": "stdout",
     "output_type": "stream",
     "text": [
      "1\n",
      "4\n",
      "9\n",
      "16\n",
      "25\n",
      "36\n",
      "49\n",
      "64\n",
      "81\n",
      "100\n"
     ]
    }
   ],
   "source": [
    "nums = [1, 4, 9, 16, 25, 36, 49, 64, 81, 100]\n",
    "for num in nums:\n",
    "    print(num)"
   ]
  },
  {
   "cell_type": "code",
   "execution_count": 15,
   "id": "fcc048da-fc9c-48ad-b5d1-71c10c872e8a",
   "metadata": {},
   "outputs": [
    {
     "name": "stdout",
     "output_type": "stream",
     "text": [
      "49 found at index 6\n"
     ]
    }
   ],
   "source": [
    "nums = (1, 4, 9, 16, 25, 36, 49, 64, 81, 100)\n",
    "x = 49\n",
    "idx = 0\n",
    "for el in nums:\n",
    "    if el == x:\n",
    "        print(x,\"found at index\",idx)\n",
    "    idx = idx + 1\n"
   ]
  },
  {
   "cell_type": "code",
   "execution_count": 19,
   "id": "d6b7d47a-3b3e-4b44-bb36-8b9a7d1a9d6b",
   "metadata": {},
   "outputs": [
    {
     "name": "stdout",
     "output_type": "stream",
     "text": [
      "4\n",
      "8\n",
      "12\n",
      "16\n"
     ]
    }
   ],
   "source": [
    "# range function  /  range()\n",
    "for i in range(4, 20, 4):\n",
    "    print(i)\n"
   ]
  },
  {
   "cell_type": "code",
   "execution_count": 20,
   "id": "708a2c1c-6656-4aab-97e2-4d16d2504e10",
   "metadata": {},
   "outputs": [
    {
     "name": "stdout",
     "output_type": "stream",
     "text": [
      "1\n",
      "2\n",
      "3\n",
      "4\n",
      "5\n",
      "6\n",
      "7\n",
      "8\n",
      "9\n",
      "10\n",
      "11\n",
      "12\n",
      "13\n",
      "14\n",
      "15\n",
      "16\n",
      "17\n",
      "18\n",
      "19\n",
      "20\n",
      "21\n",
      "22\n",
      "23\n",
      "24\n",
      "25\n",
      "26\n",
      "27\n",
      "28\n",
      "29\n",
      "30\n",
      "31\n",
      "32\n",
      "33\n",
      "34\n",
      "35\n",
      "36\n",
      "37\n",
      "38\n",
      "39\n",
      "40\n",
      "41\n",
      "42\n",
      "43\n",
      "44\n",
      "45\n",
      "46\n",
      "47\n",
      "48\n",
      "49\n",
      "50\n",
      "51\n",
      "52\n",
      "53\n",
      "54\n",
      "55\n",
      "56\n",
      "57\n",
      "58\n",
      "59\n",
      "60\n",
      "61\n",
      "62\n",
      "63\n",
      "64\n",
      "65\n",
      "66\n",
      "67\n",
      "68\n",
      "69\n",
      "70\n",
      "71\n",
      "72\n",
      "73\n",
      "74\n",
      "75\n",
      "76\n",
      "77\n",
      "78\n",
      "79\n",
      "80\n",
      "81\n",
      "82\n",
      "83\n",
      "84\n",
      "85\n",
      "86\n",
      "87\n",
      "88\n",
      "89\n",
      "90\n",
      "91\n",
      "92\n",
      "93\n",
      "94\n",
      "95\n",
      "96\n",
      "97\n",
      "98\n",
      "99\n",
      "100\n"
     ]
    }
   ],
   "source": [
    "for i in range(1, 101):\n",
    "    print(i)"
   ]
  },
  {
   "cell_type": "code",
   "execution_count": 28,
   "id": "e80b5114-85e6-45b9-b642-8d1d48adfe24",
   "metadata": {},
   "outputs": [
    {
     "name": "stdout",
     "output_type": "stream",
     "text": [
      "100\n",
      "99\n",
      "98\n",
      "97\n",
      "96\n",
      "95\n",
      "94\n",
      "93\n",
      "92\n",
      "91\n",
      "90\n",
      "89\n",
      "88\n",
      "87\n",
      "86\n",
      "85\n",
      "84\n",
      "83\n",
      "82\n",
      "81\n",
      "80\n",
      "79\n",
      "78\n",
      "77\n",
      "76\n",
      "75\n",
      "74\n",
      "73\n",
      "72\n",
      "71\n",
      "70\n",
      "69\n",
      "68\n",
      "67\n",
      "66\n",
      "65\n",
      "64\n",
      "63\n",
      "62\n",
      "61\n",
      "60\n",
      "59\n",
      "58\n",
      "57\n",
      "56\n",
      "55\n",
      "54\n",
      "53\n",
      "52\n",
      "51\n",
      "50\n",
      "49\n",
      "48\n",
      "47\n",
      "46\n",
      "45\n",
      "44\n",
      "43\n",
      "42\n",
      "41\n",
      "40\n",
      "39\n",
      "38\n",
      "37\n",
      "36\n",
      "35\n",
      "34\n",
      "33\n",
      "32\n",
      "31\n",
      "30\n",
      "29\n",
      "28\n",
      "27\n",
      "26\n",
      "25\n",
      "24\n",
      "23\n",
      "22\n",
      "21\n",
      "20\n",
      "19\n",
      "18\n",
      "17\n",
      "16\n",
      "15\n",
      "14\n",
      "13\n",
      "12\n",
      "11\n",
      "10\n",
      "9\n",
      "8\n",
      "7\n",
      "6\n",
      "5\n",
      "4\n",
      "3\n",
      "2\n",
      "1\n"
     ]
    }
   ],
   "source": [
    "for i in range(100, 0,-1):\n",
    "    print(i)"
   ]
  },
  {
   "cell_type": "code",
   "execution_count": 30,
   "id": "b8c1a55c-a535-4d02-8ac5-2a108cb54e50",
   "metadata": {},
   "outputs": [
    {
     "name": "stdin",
     "output_type": "stream",
     "text": [
      "enter a number 2\n"
     ]
    },
    {
     "name": "stdout",
     "output_type": "stream",
     "text": [
      "2\n",
      "4\n",
      "6\n",
      "8\n",
      "10\n",
      "12\n",
      "14\n",
      "16\n",
      "18\n",
      "20\n"
     ]
    }
   ],
   "source": [
    "n = int(input(\"enter a number\"))\n",
    "for i in range(1,11):\n",
    "    print(n * i)"
   ]
  },
  {
   "cell_type": "code",
   "execution_count": 35,
   "id": "ae2d1ea9-53f9-40cf-8ace-25028cfd9346",
   "metadata": {},
   "outputs": [
    {
     "name": "stdout",
     "output_type": "stream",
     "text": [
      "out of loop\n"
     ]
    }
   ],
   "source": [
    "# pass statement\n",
    "for i in range(5):\n",
    "    pass\n",
    "   \n",
    "print(\"out of loop\")"
   ]
  },
  {
   "cell_type": "code",
   "execution_count": 37,
   "id": "6b30befd-328e-4006-952f-1332e278b03d",
   "metadata": {},
   "outputs": [
    {
     "name": "stdout",
     "output_type": "stream",
     "text": [
      "pass statement is used to run empty loops\n"
     ]
    }
   ],
   "source": [
    "if i > 5:\n",
    "    pass\n",
    "print(\"pass statement is used to run empty loops\")"
   ]
  },
  {
   "cell_type": "code",
   "execution_count": 11,
   "id": "1ece20fa-0d10-4c25-a207-972630f23c38",
   "metadata": {},
   "outputs": [
    {
     "name": "stdin",
     "output_type": "stream",
     "text": [
      "enter a number 5\n"
     ]
    },
    {
     "name": "stdout",
     "output_type": "stream",
     "text": [
      "15\n"
     ]
    }
   ],
   "source": [
    "n = int(input(\"enter a number\"))\n",
    "sum = 0\n",
    "i = 1\n",
    "while i <= n:\n",
    "    sum += i\n",
    "    i += 1\n",
    "print(sum)"
   ]
  },
  {
   "cell_type": "code",
   "execution_count": 15,
   "id": "e7012675-5353-42c8-95f9-faa748c0cfa8",
   "metadata": {},
   "outputs": [
    {
     "name": "stdin",
     "output_type": "stream",
     "text": [
      "enter a number 5\n"
     ]
    },
    {
     "name": "stdout",
     "output_type": "stream",
     "text": [
      "1 1\n",
      "2 2\n",
      "3 6\n",
      "4 24\n",
      "5 120\n"
     ]
    }
   ],
   "source": [
    "n = int(input(\"enter a number\"))\n",
    "fac = 1\n",
    "for i in range(1,n+1):\n",
    "    fac *= i\n",
    "    print(i,fac)"
   ]
  },
  {
   "cell_type": "code",
   "execution_count": 34,
   "id": "1ad71460-cd31-4506-af44-73b7123f9e74",
   "metadata": {},
   "outputs": [
    {
     "name": "stdin",
     "output_type": "stream",
     "text": [
      "enter a number 4\n"
     ]
    },
    {
     "name": "stdout",
     "output_type": "stream",
     "text": [
      "factorial of 4 is 24\n"
     ]
    }
   ],
   "source": [
    "n = int(input(\"enter a number\"))\n",
    "fact = 1\n",
    "i = 1\n",
    "while i <= n:\n",
    "    fact *= i\n",
    "    i += 1\n",
    "print(\"factorial of\",n ,\"is\",fact)\n",
    "    "
   ]
  },
  {
   "cell_type": "code",
   "execution_count": 8,
   "id": "11f750f2-967d-4abf-9b93-b21b5f140e0c",
   "metadata": {},
   "outputs": [
    {
     "name": "stdin",
     "output_type": "stream",
     "text": [
      "enter a number 5\n"
     ]
    },
    {
     "data": {
      "text/plain": [
       "120"
      ]
     },
     "execution_count": 8,
     "metadata": {},
     "output_type": "execute_result"
    }
   ],
   "source": [
    "#  function and recursion\n",
    "n = int(input(\"enter a number\"))\n",
    "def factorial(n):\n",
    "    fac = 1\n",
    "    for i in range(1,n+1):\n",
    "        fac *= i\n",
    "    return fac\n",
    "factorial(n)\n",
    "    "
   ]
  },
  {
   "cell_type": "markdown",
   "id": "f5a742f8-6662-4614-9b6e-baf1c4fb9698",
   "metadata": {},
   "source": [
    "#### def calc_sum(a, b):\n",
    "    sum = a + b\n",
    "    print(sum)\n",
    "calc_sum(4,6) \n",
    "calc_sum(4,5)\n",
    "calc_sum(4,4)      "
   ]
  },
  {
   "cell_type": "code",
   "execution_count": 2,
   "id": "034a97f9-52a6-46fe-9f6e-b447e9ea0382",
   "metadata": {},
   "outputs": [
    {
     "data": {
      "text/plain": [
       "9"
      ]
     },
     "execution_count": 2,
     "metadata": {},
     "output_type": "execute_result"
    }
   ],
   "source": [
    "def sum(a,b):\n",
    "    return a+b\n",
    "sum(4,5)"
   ]
  },
  {
   "cell_type": "code",
   "execution_count": 6,
   "id": "0f65a17a-ab03-4fbc-a04e-186d1b4eb680",
   "metadata": {},
   "outputs": [
    {
     "name": "stdout",
     "output_type": "stream",
     "text": [
      "hello world\n"
     ]
    }
   ],
   "source": [
    "def hello_print():\n",
    "    print(\"hello world\")\n",
    "hello_print()\n",
    "    "
   ]
  },
  {
   "cell_type": "code",
   "execution_count": 9,
   "id": "b0fa3709-d38a-4a47-8d12-8544120e9a71",
   "metadata": {},
   "outputs": [
    {
     "name": "stdout",
     "output_type": "stream",
     "text": [
      "94.0\n"
     ]
    }
   ],
   "source": [
    "def cal_avg(a, b, c):\n",
    "    sum = a + b + c\n",
    "    avg = sum / 3\n",
    "    print(avg)\n",
    "cal_avg(93, 94, 95)"
   ]
  },
  {
   "cell_type": "code",
   "execution_count": null,
   "id": "f7b387e4-9a34-4642-8200-443a29f9aaeb",
   "metadata": {},
   "outputs": [],
   "source": [
    "# types of function\n",
    "# ---> buildin function\n",
    "       # ---> print()\n",
    "       # ---> len()\n",
    "       # ---> type()\n",
    "       # ---> range()\n",
    "\n",
    "# ---> user define function\n",
    "       # ---> written by user"
   ]
  },
  {
   "cell_type": "code",
   "execution_count": 12,
   "id": "9fa437a1-f15f-4c97-9f95-dc14e842e003",
   "metadata": {},
   "outputs": [
    {
     "data": {
      "text/plain": [
       "24"
      ]
     },
     "execution_count": 12,
     "metadata": {},
     "output_type": "execute_result"
    }
   ],
   "source": [
    "# default parameters\n",
    "def cal_prod(a = 4, b = 6):\n",
    "    return a * b\n",
    "cal_prod()"
   ]
  },
  {
   "cell_type": "code",
   "execution_count": 29,
   "id": "88241461-a176-44f7-9d36-3b49dd93f419",
   "metadata": {},
   "outputs": [
    {
     "name": "stdout",
     "output_type": "stream",
     "text": [
      "10\n"
     ]
    }
   ],
   "source": [
    "nums = [1, 4, 9, 16, 25, 36, 49, 64, 81, 100]\n",
    "def list_len(list):\n",
    "    print(len(nums))\n",
    "list_len(nums)"
   ]
  },
  {
   "cell_type": "code",
   "execution_count": 31,
   "id": "665415b6-d502-4011-bc1e-d54616eec84d",
   "metadata": {},
   "outputs": [
    {
     "name": "stdout",
     "output_type": "stream",
     "text": [
      "1\n",
      "4\n",
      "9\n",
      "16\n",
      "25\n",
      "36\n",
      "49\n",
      "64\n",
      "81\n",
      "100\n"
     ]
    }
   ],
   "source": [
    "nums = [1, 4, 9, 16, 25, 36, 49, 64, 81, 100]\n",
    "def list_ele(list):\n",
    "    for num in nums:\n",
    "        print(num)\n",
    "list_ele(nums)"
   ]
  },
  {
   "cell_type": "code",
   "execution_count": 7,
   "id": "714dde2d-ce70-481f-9a38-5789c1111e15",
   "metadata": {},
   "outputs": [
    {
     "name": "stdin",
     "output_type": "stream",
     "text": [
      "enter a number 3\n"
     ]
    },
    {
     "data": {
      "text/plain": [
       "6"
      ]
     },
     "execution_count": 7,
     "metadata": {},
     "output_type": "execute_result"
    }
   ],
   "source": [
    "n = int(input(\"enter a number\"))\n",
    "def factorial(n):\n",
    "    fac = 1\n",
    "    for i in range(1, n+1):\n",
    "        fac = fac * i\n",
    "    return fac\n",
    "factorial(n)"
   ]
  },
  {
   "cell_type": "code",
   "execution_count": 12,
   "id": "a2c931f2-d1b6-44a2-bf72-9014b2795cf1",
   "metadata": {},
   "outputs": [
    {
     "name": "stdin",
     "output_type": "stream",
     "text": [
      "enter usd 4\n"
     ]
    },
    {
     "data": {
      "text/plain": [
       "332"
      ]
     },
     "execution_count": 12,
     "metadata": {},
     "output_type": "execute_result"
    }
   ],
   "source": [
    "usd = int(input(\"enter usd\"))\n",
    "def convert(n):\n",
    "    inr = usd * 83\n",
    "    return inr\n",
    "convert(n)\n",
    "    "
   ]
  },
  {
   "cell_type": "code",
   "execution_count": 14,
   "id": "54cc58b3-7487-4382-a57c-8bdeac0aab4a",
   "metadata": {},
   "outputs": [
    {
     "name": "stdin",
     "output_type": "stream",
     "text": [
      "enter a number 5\n"
     ]
    },
    {
     "name": "stdout",
     "output_type": "stream",
     "text": [
      "odd number\n"
     ]
    }
   ],
   "source": [
    "n = int(input(\"enter a number\"))\n",
    "def even(n):\n",
    "    if n % 2 == 0:\n",
    "        print(\"even number\")\n",
    "    else:\n",
    "        print(\"odd number\")\n",
    "even(n)"
   ]
  },
  {
   "cell_type": "code",
   "execution_count": 29,
   "id": "67085261-98a5-44a2-ae59-6dd3ed9ab98e",
   "metadata": {},
   "outputs": [
    {
     "name": "stdin",
     "output_type": "stream",
     "text": [
      "enter a number 5\n"
     ]
    },
    {
     "name": "stdout",
     "output_type": "stream",
     "text": [
      "5\n",
      "4\n",
      "3\n",
      "2\n",
      "1\n"
     ]
    }
   ],
   "source": [
    "# recursion\n",
    "n = int(input(\"enter a number\"))\n",
    "def show(n):\n",
    "    if n == 0:\n",
    "        return\n",
    "    print(n)\n",
    "    show(n-1)\n",
    "show(n)"
   ]
  },
  {
   "cell_type": "code",
   "execution_count": 27,
   "id": "49b0d113-cad7-4e0a-89ee-43d62bb35a5f",
   "metadata": {},
   "outputs": [
    {
     "name": "stdin",
     "output_type": "stream",
     "text": [
      "enter a number 4\n"
     ]
    },
    {
     "name": "stdout",
     "output_type": "stream",
     "text": [
      "24\n"
     ]
    }
   ],
   "source": [
    "n = int(input(\"enter a number\"))\n",
    "def factorial(n):\n",
    "    if n == 1 or n == 0:\n",
    "        return 1\n",
    "    return factorial(n - 1) * n\n",
    "print(factorial(n))"
   ]
  },
  {
   "cell_type": "code",
   "execution_count": 40,
   "id": "d75d32e1-64b4-4268-849b-618b0c1f03a8",
   "metadata": {},
   "outputs": [
    {
     "name": "stdin",
     "output_type": "stream",
     "text": [
      "enter a number 4\n"
     ]
    },
    {
     "name": "stdout",
     "output_type": "stream",
     "text": [
      "10\n"
     ]
    }
   ],
   "source": [
    "n = int(input(\"enter a number\"))\n",
    "def calc(n):\n",
    "    if n == 0:\n",
    "        return 0\n",
    "    return calc(n - 1) + n\n",
    "sum = calc(n)\n",
    "print(sum)\n",
    "    \n",
    "    "
   ]
  },
  {
   "cell_type": "code",
   "execution_count": 47,
   "id": "ec2fb66d-d1c8-41d5-970c-2becf21cbdc1",
   "metadata": {},
   "outputs": [
    {
     "name": "stdout",
     "output_type": "stream",
     "text": [
      "1\n",
      "4\n",
      "9\n",
      "16\n",
      "25\n",
      "36\n",
      "49\n",
      "64\n",
      "81\n",
      "100\n",
      "101\n"
     ]
    }
   ],
   "source": [
    "nums = [1, 4, 9, 16, 25, 36, 49, 64, 81, 100, 101]\n",
    "def list_values(list, idx = 0):\n",
    "    if idx == len(nums):\n",
    "        return\n",
    "    print(list[idx])\n",
    "    list_values(list, idx + 1)\n",
    "list_values(nums)"
   ]
  },
  {
   "cell_type": "markdown",
   "id": "ac166423-6865-4909-847e-ddf358743782",
   "metadata": {},
   "source": [
    "# file input / output in python"
   ]
  },
  {
   "cell_type": "code",
   "execution_count": null,
   "id": "2cd0773a-6078-4df5-a308-b020e91ca841",
   "metadata": {},
   "outputs": [],
   "source": []
  }
 ],
 "metadata": {
  "kernelspec": {
   "display_name": "Python 3 (ipykernel)",
   "language": "python",
   "name": "python3"
  },
  "language_info": {
   "codemirror_mode": {
    "name": "ipython",
    "version": 3
   },
   "file_extension": ".py",
   "mimetype": "text/x-python",
   "name": "python",
   "nbconvert_exporter": "python",
   "pygments_lexer": "ipython3",
   "version": "3.11.7"
  }
 },
 "nbformat": 4,
 "nbformat_minor": 5
}
